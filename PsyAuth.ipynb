{
  "nbformat": 4,
  "nbformat_minor": 0,
  "metadata": {
    "colab": {
      "name": "PsyAuth.ipynb",
      "version": "0.3.2",
      "provenance": [],
      "collapsed_sections": [],
      "toc_visible": true,
      "include_colab_link": true
    },
    "kernelspec": {
      "name": "python3",
      "display_name": "Python 3"
    }
  },
  "cells": [
    {
      "cell_type": "markdown",
      "metadata": {
        "id": "view-in-github",
        "colab_type": "text"
      },
      "source": [
        "<a href=\"https://colab.research.google.com/github/alexlaurence/PsyAuth/blob/master/PsyAuth.ipynb\" target=\"_parent\"><img src=\"https://colab.research.google.com/assets/colab-badge.svg\" alt=\"Open In Colab\"/></a>"
      ]
    },
    {
      "cell_type": "markdown",
      "metadata": {
        "id": "JuvAFanZNVmB",
        "colab_type": "text"
      },
      "source": [
        "# PsyAuth\n",
        "\n",
        "Created by Alexander Laurence, based on Bojinov et al. (2012) conference paper 'Neuroscience meets Computer Science' and my own undergrad thesis 'Cortical Steganography: A Novel Approach To Multifactor Authentication Through Sensorimotor Coupling'.\n",
        "\n",
        "Questions? \n",
        "\n",
        "Email: alexander.adamlaurence@gmail.com \n",
        "\n",
        "Web: www.celestial.tokyo/~AlexLaurence/"
      ]
    },
    {
      "cell_type": "markdown",
      "metadata": {
        "id": "ahe0SdJ6UcK-",
        "colab_type": "text"
      },
      "source": [
        "## Generate Sequences\n",
        "\n",
        "First of all, we would want to instantiate our lists, and populate them with random sequence of 1-26 (corresponding to all letters on the keyboard) with a sequence length of 10. A cluster is 3T + F according to my original thesis (Laurence & Silvanto, 2014). "
      ]
    },
    {
      "cell_type": "code",
      "metadata": {
        "id": "Xr9HxlHXTv9j",
        "colab_type": "code",
        "colab": {
          "base_uri": "https://localhost:8080/",
          "height": 68
        },
        "outputId": "c29b8ab9-c5c2-4e8d-f583-b5984c796d7e"
      },
      "source": [
        "import random\n",
        "\n",
        "# uncomment if you want the user to determine how long is the sequence, then pass Sequence_Length as the 2nd arg in for loop range line 7 and 8\n",
        "#Sequence_Length = int(input(\"How long would you like the sequences to be? (Recommend 30): \"))\n",
        "\n",
        "# Populate Lists with random sequences\n",
        "Target_Sequence = [random.randint(1,6) for x in range(0, 5)]\n",
        "Foil_Sequence = [random.randint(1,6) for x in range(0, 5)]\n",
        "\n",
        "# Map target sequence to keyboard keys\n",
        "i=0\n",
        "while i < len(Target_Sequence):\n",
        "  if Target_Sequence[i] == 1:\n",
        "    Target_Sequence[i] = \"s\"\n",
        "  elif Target_Sequence[i] == 2:\n",
        "    Target_Sequence[i] = \"d\"\n",
        "  elif Target_Sequence[i] == 3:\n",
        "    Target_Sequence[i] = \"f\"\n",
        "  elif Target_Sequence[i] == 4:\n",
        "    Target_Sequence[i] = \"j\"\n",
        "  elif Target_Sequence[i] == 5:\n",
        "    Target_Sequence[i] = \"k\"\n",
        "  elif Target_Sequence[i] == 6:\n",
        "    Target_Sequence[i] = \"l\"\n",
        "  i=i+1\n",
        "  \n",
        "# Map foil sequence to keyboard keys\n",
        "i=0\n",
        "while i < len(Foil_Sequence):\n",
        "  if Foil_Sequence[i] == 1:\n",
        "    Foil_Sequence[i] = \"s\"\n",
        "  elif Foil_Sequence[i] == 2:\n",
        "    Foil_Sequence[i] = \"d\"\n",
        "  elif Foil_Sequence[i] == 3:\n",
        "    Foil_Sequence[i] = \"f\"\n",
        "  elif Foil_Sequence[i] == 4:\n",
        "    Foil_Sequence[i] = \"j\"\n",
        "  elif Foil_Sequence[i] == 5:\n",
        "    Foil_Sequence[i] = \"k\"\n",
        "  elif Foil_Sequence[i] == 6:\n",
        "    Foil_Sequence[i] = \"l\"\n",
        "  i=i+1\n",
        "\n",
        "# Set the cluster to 3t+f\n",
        "Cluster = Target_Sequence+Target_Sequence+Target_Sequence+Foil_Sequence\n",
        "  \n",
        "# Print the sequences, strongly advise uncommenting line 11-13 after testing.\n",
        "print(\"t={}\".format(Target_Sequence))\n",
        "print(\"f={}\".format(Foil_Sequence))\n",
        "print(\"c={}\".format(Cluster))"
      ],
      "execution_count": 106,
      "outputs": [
        {
          "output_type": "stream",
          "text": [
            "t=['l', 'l', 'd', 'd', 'f']\n",
            "f=['f', 'k', 'j', 's', 'f']\n",
            "c=['l', 'l', 'd', 'd', 'f', 'l', 'l', 'd', 'd', 'f', 'l', 'l', 'd', 'd', 'f', 'f', 'k', 'j', 's', 'f']\n"
          ],
          "name": "stdout"
        }
      ]
    },
    {
      "cell_type": "markdown",
      "metadata": {
        "id": "AXucvLXMU1xW",
        "colab_type": "text"
      },
      "source": [
        "## Setup Training Session\n",
        "\n",
        "A Cluster is considered a Trial, and a Block is 5 clusters. A training session is made up of 8 blocks. A total of 800 keystrokes."
      ]
    },
    {
      "cell_type": "code",
      "metadata": {
        "id": "6ZjODUznVDtx",
        "colab_type": "code",
        "colab": {}
      },
      "source": [
        "Trial = Cluster\n",
        "Block = Cluster+Cluster+Cluster+Cluster+Cluster\n",
        "Session = Block+Block+Block+Block+Block+Block+Block+Block"
      ],
      "execution_count": 0,
      "outputs": []
    },
    {
      "cell_type": "code",
      "metadata": {
        "id": "9hzzt7cPxnz1",
        "colab_type": "code",
        "colab": {
          "base_uri": "https://localhost:8080/",
          "height": 54
        },
        "outputId": "7fe4a858-659c-4ccf-ae5f-d632d9da5a82"
      },
      "source": [
        "print(Session)"
      ],
      "execution_count": 108,
      "outputs": [
        {
          "output_type": "stream",
          "text": [
            "['l', 'l', 'd', 'd', 'f', 'l', 'l', 'd', 'd', 'f', 'l', 'l', 'd', 'd', 'f', 'f', 'k', 'j', 's', 'f', 'l', 'l', 'd', 'd', 'f', 'l', 'l', 'd', 'd', 'f', 'l', 'l', 'd', 'd', 'f', 'f', 'k', 'j', 's', 'f', 'l', 'l', 'd', 'd', 'f', 'l', 'l', 'd', 'd', 'f', 'l', 'l', 'd', 'd', 'f', 'f', 'k', 'j', 's', 'f', 'l', 'l', 'd', 'd', 'f', 'l', 'l', 'd', 'd', 'f', 'l', 'l', 'd', 'd', 'f', 'f', 'k', 'j', 's', 'f', 'l', 'l', 'd', 'd', 'f', 'l', 'l', 'd', 'd', 'f', 'l', 'l', 'd', 'd', 'f', 'f', 'k', 'j', 's', 'f', 'l', 'l', 'd', 'd', 'f', 'l', 'l', 'd', 'd', 'f', 'l', 'l', 'd', 'd', 'f', 'f', 'k', 'j', 's', 'f', 'l', 'l', 'd', 'd', 'f', 'l', 'l', 'd', 'd', 'f', 'l', 'l', 'd', 'd', 'f', 'f', 'k', 'j', 's', 'f', 'l', 'l', 'd', 'd', 'f', 'l', 'l', 'd', 'd', 'f', 'l', 'l', 'd', 'd', 'f', 'f', 'k', 'j', 's', 'f', 'l', 'l', 'd', 'd', 'f', 'l', 'l', 'd', 'd', 'f', 'l', 'l', 'd', 'd', 'f', 'f', 'k', 'j', 's', 'f', 'l', 'l', 'd', 'd', 'f', 'l', 'l', 'd', 'd', 'f', 'l', 'l', 'd', 'd', 'f', 'f', 'k', 'j', 's', 'f', 'l', 'l', 'd', 'd', 'f', 'l', 'l', 'd', 'd', 'f', 'l', 'l', 'd', 'd', 'f', 'f', 'k', 'j', 's', 'f', 'l', 'l', 'd', 'd', 'f', 'l', 'l', 'd', 'd', 'f', 'l', 'l', 'd', 'd', 'f', 'f', 'k', 'j', 's', 'f', 'l', 'l', 'd', 'd', 'f', 'l', 'l', 'd', 'd', 'f', 'l', 'l', 'd', 'd', 'f', 'f', 'k', 'j', 's', 'f', 'l', 'l', 'd', 'd', 'f', 'l', 'l', 'd', 'd', 'f', 'l', 'l', 'd', 'd', 'f', 'f', 'k', 'j', 's', 'f', 'l', 'l', 'd', 'd', 'f', 'l', 'l', 'd', 'd', 'f', 'l', 'l', 'd', 'd', 'f', 'f', 'k', 'j', 's', 'f', 'l', 'l', 'd', 'd', 'f', 'l', 'l', 'd', 'd', 'f', 'l', 'l', 'd', 'd', 'f', 'f', 'k', 'j', 's', 'f', 'l', 'l', 'd', 'd', 'f', 'l', 'l', 'd', 'd', 'f', 'l', 'l', 'd', 'd', 'f', 'f', 'k', 'j', 's', 'f', 'l', 'l', 'd', 'd', 'f', 'l', 'l', 'd', 'd', 'f', 'l', 'l', 'd', 'd', 'f', 'f', 'k', 'j', 's', 'f', 'l', 'l', 'd', 'd', 'f', 'l', 'l', 'd', 'd', 'f', 'l', 'l', 'd', 'd', 'f', 'f', 'k', 'j', 's', 'f', 'l', 'l', 'd', 'd', 'f', 'l', 'l', 'd', 'd', 'f', 'l', 'l', 'd', 'd', 'f', 'f', 'k', 'j', 's', 'f', 'l', 'l', 'd', 'd', 'f', 'l', 'l', 'd', 'd', 'f', 'l', 'l', 'd', 'd', 'f', 'f', 'k', 'j', 's', 'f', 'l', 'l', 'd', 'd', 'f', 'l', 'l', 'd', 'd', 'f', 'l', 'l', 'd', 'd', 'f', 'f', 'k', 'j', 's', 'f', 'l', 'l', 'd', 'd', 'f', 'l', 'l', 'd', 'd', 'f', 'l', 'l', 'd', 'd', 'f', 'f', 'k', 'j', 's', 'f', 'l', 'l', 'd', 'd', 'f', 'l', 'l', 'd', 'd', 'f', 'l', 'l', 'd', 'd', 'f', 'f', 'k', 'j', 's', 'f', 'l', 'l', 'd', 'd', 'f', 'l', 'l', 'd', 'd', 'f', 'l', 'l', 'd', 'd', 'f', 'f', 'k', 'j', 's', 'f', 'l', 'l', 'd', 'd', 'f', 'l', 'l', 'd', 'd', 'f', 'l', 'l', 'd', 'd', 'f', 'f', 'k', 'j', 's', 'f', 'l', 'l', 'd', 'd', 'f', 'l', 'l', 'd', 'd', 'f', 'l', 'l', 'd', 'd', 'f', 'f', 'k', 'j', 's', 'f', 'l', 'l', 'd', 'd', 'f', 'l', 'l', 'd', 'd', 'f', 'l', 'l', 'd', 'd', 'f', 'f', 'k', 'j', 's', 'f', 'l', 'l', 'd', 'd', 'f', 'l', 'l', 'd', 'd', 'f', 'l', 'l', 'd', 'd', 'f', 'f', 'k', 'j', 's', 'f', 'l', 'l', 'd', 'd', 'f', 'l', 'l', 'd', 'd', 'f', 'l', 'l', 'd', 'd', 'f', 'f', 'k', 'j', 's', 'f', 'l', 'l', 'd', 'd', 'f', 'l', 'l', 'd', 'd', 'f', 'l', 'l', 'd', 'd', 'f', 'f', 'k', 'j', 's', 'f', 'l', 'l', 'd', 'd', 'f', 'l', 'l', 'd', 'd', 'f', 'l', 'l', 'd', 'd', 'f', 'f', 'k', 'j', 's', 'f', 'l', 'l', 'd', 'd', 'f', 'l', 'l', 'd', 'd', 'f', 'l', 'l', 'd', 'd', 'f', 'f', 'k', 'j', 's', 'f', 'l', 'l', 'd', 'd', 'f', 'l', 'l', 'd', 'd', 'f', 'l', 'l', 'd', 'd', 'f', 'f', 'k', 'j', 's', 'f', 'l', 'l', 'd', 'd', 'f', 'l', 'l', 'd', 'd', 'f', 'l', 'l', 'd', 'd', 'f', 'f', 'k', 'j', 's', 'f', 'l', 'l', 'd', 'd', 'f', 'l', 'l', 'd', 'd', 'f', 'l', 'l', 'd', 'd', 'f', 'f', 'k', 'j', 's', 'f', 'l', 'l', 'd', 'd', 'f', 'l', 'l', 'd', 'd', 'f', 'l', 'l', 'd', 'd', 'f', 'f', 'k', 'j', 's', 'f', 'l', 'l', 'd', 'd', 'f', 'l', 'l', 'd', 'd', 'f', 'l', 'l', 'd', 'd', 'f', 'f', 'k', 'j', 's', 'f', 'l', 'l', 'd', 'd', 'f', 'l', 'l', 'd', 'd', 'f', 'l', 'l', 'd', 'd', 'f', 'f', 'k', 'j', 's', 'f', 'l', 'l', 'd', 'd', 'f', 'l', 'l', 'd', 'd', 'f', 'l', 'l', 'd', 'd', 'f', 'f', 'k', 'j', 's', 'f']\n"
          ],
          "name": "stdout"
        }
      ]
    },
    {
      "cell_type": "markdown",
      "metadata": {
        "id": "jUKlQSX_s0bA",
        "colab_type": "text"
      },
      "source": [
        "## Run Training Session"
      ]
    },
    {
      "cell_type": "code",
      "metadata": {
        "id": "s1xobsdas0Gy",
        "colab_type": "code",
        "colab": {}
      },
      "source": [
        "import pandas as pd\n",
        "df = pd.DataFrame(columns=['key', 't', 'rt'])\n",
        "\n",
        "import time\n",
        "start_time = time.time()\n",
        "\n",
        "ask_name = input('Please enter filename (i.e. username): ')\n",
        "print('Thanks. Running session...')\n",
        "\n",
        "i=0\n",
        "while i < len(Session):\n",
        "  keystroke = input(\"Type {}: \".format(Session[i]))\n",
        "  if keystroke.lower() == Session[i]:\n",
        "    print('Correct!')\n",
        "    # if not on first row, calculate rt by doing n-1 for time column\n",
        "    if i > 0:\n",
        "      df.loc[i] = [keystroke.lower()] + [time.time() - start_time] + ['']\n",
        "      df.loc[i,'rt'] = df['t'].iloc[i] - df['t'].shift(1).iloc[i]\n",
        "    else:\n",
        "      # for first row, t = rt\n",
        "      df.loc[i] = [keystroke.lower()] + [time.time() - start_time] + [time.time() - start_time]\n",
        "  else:\n",
        "    print('Incorrect! Try again...')\n",
        "    continue\n",
        "  i=i+1"
      ],
      "execution_count": 0,
      "outputs": []
    },
    {
      "cell_type": "markdown",
      "metadata": {
        "id": "Yvohp4Ow143L",
        "colab_type": "text"
      },
      "source": [
        "### Session Data"
      ]
    },
    {
      "cell_type": "code",
      "metadata": {
        "id": "gX3o8ZN_yPSn",
        "colab_type": "code",
        "colab": {
          "base_uri": "https://localhost:8080/",
          "height": 297
        },
        "outputId": "557880c8-23a9-4d18-831a-348262a3f797"
      },
      "source": [
        "from datetime import datetime\n",
        "\n",
        "df.to_csv('{}_{}.csv'.format(ask_name,datetime.now().date()))\n",
        "df"
      ],
      "execution_count": 187,
      "outputs": [
        {
          "output_type": "execute_result",
          "data": {
            "text/html": [
              "<div>\n",
              "<style scoped>\n",
              "    .dataframe tbody tr th:only-of-type {\n",
              "        vertical-align: middle;\n",
              "    }\n",
              "\n",
              "    .dataframe tbody tr th {\n",
              "        vertical-align: top;\n",
              "    }\n",
              "\n",
              "    .dataframe thead th {\n",
              "        text-align: right;\n",
              "    }\n",
              "</style>\n",
              "<table border=\"1\" class=\"dataframe\">\n",
              "  <thead>\n",
              "    <tr style=\"text-align: right;\">\n",
              "      <th></th>\n",
              "      <th>key</th>\n",
              "      <th>t</th>\n",
              "      <th>rt</th>\n",
              "    </tr>\n",
              "  </thead>\n",
              "  <tbody>\n",
              "    <tr>\n",
              "      <th>0</th>\n",
              "      <td>l</td>\n",
              "      <td>5.784049</td>\n",
              "      <td>5.78405</td>\n",
              "    </tr>\n",
              "    <tr>\n",
              "      <th>1</th>\n",
              "      <td>l</td>\n",
              "      <td>6.901255</td>\n",
              "      <td>1.11721</td>\n",
              "    </tr>\n",
              "    <tr>\n",
              "      <th>2</th>\n",
              "      <td>d</td>\n",
              "      <td>7.787931</td>\n",
              "      <td>0.886677</td>\n",
              "    </tr>\n",
              "    <tr>\n",
              "      <th>3</th>\n",
              "      <td>d</td>\n",
              "      <td>8.831856</td>\n",
              "      <td>1.04392</td>\n",
              "    </tr>\n",
              "    <tr>\n",
              "      <th>4</th>\n",
              "      <td>f</td>\n",
              "      <td>10.152589</td>\n",
              "      <td>1.32073</td>\n",
              "    </tr>\n",
              "    <tr>\n",
              "      <th>5</th>\n",
              "      <td>l</td>\n",
              "      <td>11.589950</td>\n",
              "      <td>1.43736</td>\n",
              "    </tr>\n",
              "    <tr>\n",
              "      <th>6</th>\n",
              "      <td>l</td>\n",
              "      <td>13.895958</td>\n",
              "      <td>2.30601</td>\n",
              "    </tr>\n",
              "    <tr>\n",
              "      <th>7</th>\n",
              "      <td>d</td>\n",
              "      <td>15.237547</td>\n",
              "      <td>1.34159</td>\n",
              "    </tr>\n",
              "  </tbody>\n",
              "</table>\n",
              "</div>"
            ],
            "text/plain": [
              "  key          t        rt\n",
              "0   l   5.784049   5.78405\n",
              "1   l   6.901255   1.11721\n",
              "2   d   7.787931  0.886677\n",
              "3   d   8.831856   1.04392\n",
              "4   f  10.152589   1.32073\n",
              "5   l  11.589950   1.43736\n",
              "6   l  13.895958   2.30601\n",
              "7   d  15.237547   1.34159"
            ]
          },
          "metadata": {
            "tags": []
          },
          "execution_count": 187
        }
      ]
    },
    {
      "cell_type": "markdown",
      "metadata": {
        "id": "G-j89QXGOSwF",
        "colab_type": "text"
      },
      "source": [
        "## User Authentication"
      ]
    },
    {
      "cell_type": "code",
      "metadata": {
        "id": "7ZY4cT8HOVXd",
        "colab_type": "code",
        "colab": {
          "base_uri": "https://localhost:8080/",
          "height": 2108
        },
        "outputId": "dad890d0-9e86-4027-c4b7-2a3e885c2bc3"
      },
      "source": [
        "Testing_Session = Trial+Trial+Trial\n",
        "\n",
        "test_df = pd.DataFrame(columns=['key', 't', 'rt'])\n",
        "\n",
        "i=0\n",
        "while i < len(Testing_Session):\n",
        "  keystroke = input(\"Type {}: \".format(Session[i]))\n",
        "  if keystroke.lower() == Session[i]:\n",
        "    print('Correct!')\n",
        "    # if not on first row, calculate rt by doing n-1 for time column\n",
        "    if i > 0:\n",
        "      test_df.loc[i] = [keystroke.lower()] + [time.time() - start_time] + ['0']\n",
        "      test_df.loc[i,'rt'] = test_df['t'].iloc[i] - test_df['t'].shift(1).iloc[i]\n",
        "    else:\n",
        "      # for first row, t = rt\n",
        "      test_df.loc[i] = [keystroke.lower()] + [time.time() - start_time] + [time.time() - start_time]\n",
        "  else:\n",
        "    print('Incorrect! Try again...')\n",
        "    continue\n",
        "  i=i+1\n",
        "  \n",
        "# change the 1 to a threshold value to make authentication more smarter\n",
        "if test_df[\"rt\"].mean() < 1:\n",
        "  print('User authenticated')\n",
        "else:\n",
        "  print('\\nSorry. Based on your performance, we could not authenticate you.')"
      ],
      "execution_count": 190,
      "outputs": [
        {
          "output_type": "stream",
          "text": [
            "Type l: l\n",
            "Correct!\n",
            "Type l: l\n",
            "Correct!\n",
            "Type d: d\n",
            "Correct!\n",
            "Type d: d\n",
            "Correct!\n",
            "Type f: f\n",
            "Correct!\n",
            "Type l: l\n",
            "Correct!\n",
            "Type l: l\n",
            "Correct!\n",
            "Type d: d\n",
            "Correct!\n",
            "Type d: d\n",
            "Correct!\n",
            "Type f: f\n",
            "Correct!\n",
            "Type l: l\n",
            "Correct!\n",
            "Type l: l\n",
            "Correct!\n",
            "Type d: d\n",
            "Correct!\n",
            "Type d: d\n",
            "Correct!\n",
            "Type f: f\n",
            "Correct!\n",
            "Type f: d\n",
            "Incorrect! Try again...\n",
            "Type f: f\n",
            "Correct!\n",
            "Type k: k\n",
            "Correct!\n",
            "Type j: j\n",
            "Correct!\n",
            "Type s: s\n",
            "Correct!\n",
            "Type f: f\n",
            "Correct!\n",
            "Type l: l\n",
            "Correct!\n",
            "Type l: l\n",
            "Correct!\n",
            "Type d: d\n",
            "Correct!\n",
            "Type d: d\n",
            "Correct!\n",
            "Type f: f\n",
            "Correct!\n",
            "Type l: l\n",
            "Correct!\n",
            "Type l: l\n",
            "Correct!\n",
            "Type d: d\n",
            "Correct!\n",
            "Type d: d\n",
            "Correct!\n",
            "Type f: f\n",
            "Correct!\n",
            "Type l: l\n",
            "Correct!\n",
            "Type l: l\n",
            "Correct!\n",
            "Type d: d\n",
            "Correct!\n",
            "Type d: d\n",
            "Correct!\n",
            "Type f: f\n",
            "Correct!\n",
            "Type f: f\n",
            "Correct!\n",
            "Type k: k\n",
            "Correct!\n",
            "Type j: j\n",
            "Correct!\n",
            "Type s: s\n",
            "Correct!\n",
            "Type f: f\n",
            "Correct!\n",
            "Type l: l\n",
            "Correct!\n",
            "Type l: l\n",
            "Correct!\n",
            "Type d: d\n",
            "Correct!\n",
            "Type d: d\n",
            "Correct!\n",
            "Type f: f\n",
            "Correct!\n",
            "Type l: l\n",
            "Correct!\n",
            "Type l: l\n",
            "Correct!\n",
            "Type d: d\n",
            "Correct!\n",
            "Type d: d\n",
            "Correct!\n",
            "Type f: f\n",
            "Correct!\n",
            "Type l: l\n",
            "Correct!\n",
            "Type l: l\n",
            "Correct!\n",
            "Type d: d\n",
            "Correct!\n",
            "Type d: d\n",
            "Correct!\n",
            "Type f: f\n",
            "Correct!\n",
            "Type f: f\n",
            "Correct!\n",
            "Type k: k\n",
            "Correct!\n",
            "Type j: j\n",
            "Correct!\n",
            "Type s: s\n",
            "Correct!\n",
            "Type f: f\n",
            "Correct!\n",
            "Failed authentication\n"
          ],
          "name": "stdout"
        }
      ]
    }
  ]
}